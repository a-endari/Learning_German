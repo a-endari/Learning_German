{
 "cells": [
  {
   "cell_type": "code",
   "execution_count": 1,
   "metadata": {},
   "outputs": [],
   "source": [
    "import fitz"
   ]
  },
  {
   "cell_type": "code",
   "execution_count": 23,
   "metadata": {},
   "outputs": [],
   "source": []
  },
  {
   "cell_type": "code",
   "execution_count": 34,
   "metadata": {},
   "outputs": [
    {
     "name": "stdout",
     "output_type": "stream",
     "text": [
      "32.1583 © 2001 Max Hueber Verlag, Autor: Franz Specht\n",
      "L E K T I O N  3\n",
      "Geld! Geld! Geld! \n",
      "1800\n",
      "Auf der Landkarte sieht man es ganz\n",
      "genau: Im Jahr 1800 ist Deutschland \n",
      "ein bunter Teppich aus vielen kleinen\n",
      "Ländern. Jedes dieser kleinen Länder\n",
      "hat seinen eigenen kleinen Herrn und\n",
      "seine eigene kleine Währung! \n",
      "Ein paar Beispiele? Bitte sehr: \n",
      "Fürstentum \n",
      "Schwarzburg-Rudolstadt\n",
      "Größe:\n",
      "940 km2\n",
      "Währung:\n",
      "1 Speciestaler = 32 Groschen = 384 Pfennige   \n",
      "Herzogtum \n",
      "Sachsen-Meiningen \n",
      "Größe:\n",
      "2468 km2\n",
      "Währung:\n",
      "1 Gulden = 60 Kreuzer = 240 Pfennige  \n",
      "1\n",
      "Geld! Geld! Geld!\n",
      "\n"
     ]
    }
   ],
   "source": [
    "text = doc.get_page_text(pno=1)\n",
    "print(text)"
   ]
  },
  {
   "cell_type": "code",
   "execution_count": 72,
   "metadata": {},
   "outputs": [
    {
     "name": "stdout",
     "output_type": "stream",
     "text": [
      "Rect(238.95199584960938, 317.50897216796875, 263.99798583984375, 327.3489990234375)\n",
      "Rect(291.3219909667969, 757.81201171875, 329.7080078125, 766.3820190429688)\n",
      "Rect(193.6060028076172, 315.81097412109375, 238.25999450683594, 325.76202392578125)\n",
      "Rect(265.29730224609375, 258.20947265625, 282.8052978515625, 269.27947998046875)\n",
      "Rect(265.29730224609375, 258.20947265625, 282.8052978515625, 269.27947998046875)\n",
      "Rect(371.4552917480469, 258.20947265625, 433.2442932128906, 269.27947998046875)\n",
      "Rect(293.36029052734375, 273.20947265625, 340.4923095703125, 284.27947998046875)\n"
     ]
    }
   ],
   "source": []
  },
  {
   "cell_type": "code",
   "execution_count": 73,
   "metadata": {},
   "outputs": [
    {
     "name": "stdout",
     "output_type": "stream",
     "text": [
      "['32.1583', '©', '2001', 'Max', 'Hueber', 'Verlag,', 'Autor:', 'Franz', 'Specht', 'L', 'E', 'K', 'T', 'I', 'O', 'N', '3', 'Geld!', 'Geld!', 'Geld!', 'Geld!', 'Geld!', 'Geld!', 'Die', 'Deutschen', 'und', 'ihr', 'Geld.', 'Ein', '„200', 'Jahre-Schnellkurs“', 'Möchten', 'Sie', 'mit', 'Textil-Kaufmann', 'Emil', 'Fuchs', 'mal', 'schnell', 'durch', '200', 'Jahre', 'Deutschland', 'reisen?', 'Mit', 'unserer', 'Zeitmaschine', 'geht', 'das', 'ganz', 'bequem', 'und', 'Sie', 'lernen', 'dabei', 'auch', 'noch', 'etwas', 'über', 'Geld', 'und', 'Zoll1', 'in', 'den', 'Jahren', '1800,', '1900', 'und', '2000.', '1der', 'Zoll,', 'die', 'Zölle:', 'Geld,', 'das', 'Kaufmann', 'Fuchs', 'bei', 'der', 'Einreise', 'in', 'ein', 'anderes', 'Land', 'zahlt,', 'damit', 'er', 'dort', 'seine', 'Textilien', 'verkaufen', 'kann.', '1', 'Geld!', 'Geld!', 'Geld!', '32.1583', '©', '2001', 'Max', 'Hueber', 'Verlag,', 'Autor:', 'Franz', 'Specht', 'L', 'E', 'K', 'T', 'I', 'O', 'N', '3', 'Geld!', 'Geld!', 'Geld!', 'Geld!', 'Geld!', 'Geld!', 'Die', 'Deutschen', 'und', 'ihr', 'Geld.', 'Ein', '„200', 'Jahre-Schnellkurs“', 'Möchten', 'Sie', 'mit', 'Textil-Kaufmann', 'Emil', 'Fuchs', 'mal', 'schnell', 'durch', '200', 'Jahre', 'Deutschland', 'reisen?', 'Mit', 'unserer', 'Zeitmaschine', 'geht', 'das', 'ganz', 'bequem', 'und', 'Sie', 'lernen', 'dabei', 'auch', 'noch', 'etwas', 'über', 'Geld', 'und', 'Zoll1', 'in', 'den', 'Jahren', '1800,', '1900', 'und', '2000.', '1der', 'Zoll,', 'die', 'Zölle:', 'Geld,', 'das', 'Kaufmann', 'Fuchs', 'bei', 'der', 'Einreise', 'in', 'ein', 'anderes', 'Land', 'zahlt,', 'damit', 'er', 'dort', 'seine', 'Textilien', 'verkaufen', 'kann.', '1', 'Geld!', 'Geld!', 'Geld!', '32.1583', '©', '2001', 'Max', 'Hueber', 'Verlag,', 'Autor:', 'Franz', 'Specht', 'L', 'E', 'K', 'T', 'I', 'O', 'N', '3', 'Geld!', 'Geld!', 'Geld!', 'Geld!', 'Geld!', 'Geld!', 'Die', 'Deutschen', 'und', 'ihr', 'Geld.', 'Ein', '„200', 'Jahre-Schnellkurs“', 'Möchten', 'Sie', 'mit', 'Textil-Kaufmann', 'Emil', 'Fuchs', 'mal', 'schnell', 'durch', '200', 'Jahre', 'Deutschland', 'reisen?', 'Mit', 'unserer', 'Zeitmaschine', 'geht', 'das', 'ganz', 'bequem', 'und', 'Sie', 'lernen', 'dabei', 'auch', 'noch', 'etwas', 'über', 'Geld', 'und', 'Zoll1', 'in', 'den', 'Jahren', '1800,', '1900', 'und', '2000.', '1der', 'Zoll,', 'die', 'Zölle:', 'Geld,', 'das', 'Kaufmann', 'Fuchs', 'bei', 'der', 'Einreise', 'in', 'ein', 'anderes', 'Land', 'zahlt,', 'damit', 'er', 'dort', 'seine', 'Textilien', 'verkaufen', 'kann.', '1', 'Geld!', 'Geld!', 'Geld!', '32.1583', '©', '2001', 'Max', 'Hueber', 'Verlag,', 'Autor:', 'Franz', 'Specht', 'L', 'E', 'K', 'T', 'I', 'O', 'N', '3', 'Geld!', 'Geld!', 'Geld!', 'Geld!', 'Geld!', 'Geld!', 'Die', 'Deutschen', 'und', 'ihr', 'Geld.', 'Ein', '„200', 'Jahre-Schnellkurs“', 'Möchten', 'Sie', 'mit', 'Textil-Kaufmann', 'Emil', 'Fuchs', 'mal', 'schnell', 'durch', '200', 'Jahre', 'Deutschland', 'reisen?', 'Mit', 'unserer', 'Zeitmaschine', 'geht', 'das', 'ganz', 'bequem', 'und', 'Sie', 'lernen', 'dabei', 'auch', 'noch', 'etwas', 'über', 'Geld', 'und', 'Zoll1', 'in', 'den', 'Jahren', '1800,', '1900', 'und', '2000.', '1der', 'Zoll,', 'die', 'Zölle:', 'Geld,', 'das', 'Kaufmann', 'Fuchs', 'bei', 'der', 'Einreise', 'in', 'ein', 'anderes', 'Land', 'zahlt,', 'damit', 'er', 'dort', 'seine', 'Textilien', 'verkaufen', 'kann.', '1', 'Geld!', 'Geld!', 'Geld!', '32.1583', '©', '2001', 'Max', 'Hueber', 'Verlag,', 'Autor:', 'Franz', 'Specht', 'L', 'E', 'K', 'T', 'I', 'O', 'N', '3', 'Geld!', 'Geld!', 'Geld!', 'Geld!', 'Geld!', 'Geld!', 'Die', 'Deutschen', 'und', 'ihr', 'Geld.', 'Ein', '„200', 'Jahre-Schnellkurs“', 'Möchten', 'Sie', 'mit', 'Textil-Kaufmann', 'Emil', 'Fuchs', 'mal', 'schnell', 'durch', '200', 'Jahre', 'Deutschland', 'reisen?', 'Mit', 'unserer', 'Zeitmaschine', 'geht', 'das', 'ganz', 'bequem', 'und', 'Sie', 'lernen', 'dabei', 'auch', 'noch', 'etwas', 'über', 'Geld', 'und', 'Zoll1', 'in', 'den', 'Jahren', '1800,', '1900', 'und', '2000.', '1der', 'Zoll,', 'die', 'Zölle:', 'Geld,', 'das', 'Kaufmann', 'Fuchs', 'bei', 'der', 'Einreise', 'in', 'ein', 'anderes', 'Land', 'zahlt,', 'damit', 'er', 'dort', 'seine', 'Textilien', 'verkaufen', 'kann.', '1', 'Geld!', 'Geld!', 'Geld!', '32.1583', '©', '2001', 'Max', 'Hueber', 'Verlag,', 'Autor:', 'Franz', 'Specht', 'L', 'E', 'K', 'T', 'I', 'O', 'N', '3', 'Geld!', 'Geld!', 'Geld!', 'Geld!', 'Geld!', 'Geld!', 'Die', 'Deutschen', 'und', 'ihr', 'Geld.', 'Ein', '„200', 'Jahre-Schnellkurs“', 'Möchten', 'Sie', 'mit', 'Textil-Kaufmann', 'Emil', 'Fuchs', 'mal', 'schnell', 'durch', '200', 'Jahre', 'Deutschland', 'reisen?', 'Mit', 'unserer', 'Zeitmaschine', 'geht', 'das', 'ganz', 'bequem', 'und', 'Sie', 'lernen', 'dabei', 'auch', 'noch', 'etwas', 'über', 'Geld', 'und', 'Zoll1', 'in', 'den', 'Jahren', '1800,', '1900', 'und', '2000.', '1der', 'Zoll,', 'die', 'Zölle:', 'Geld,', 'das', 'Kaufmann', 'Fuchs', 'bei', 'der', 'Einreise', 'in', 'ein', 'anderes', 'Land', 'zahlt,', 'damit', 'er', 'dort', 'seine', 'Textilien', 'verkaufen', 'kann.', '1', 'Geld!', 'Geld!', 'Geld!', '32.1583', '©', '2001', 'Max', 'Hueber', 'Verlag,', 'Autor:', 'Franz', 'Specht', 'L', 'E', 'K', 'T', 'I', 'O', 'N', '3', 'Geld!', 'Geld!', 'Geld!', 'Geld!', 'Geld!', 'Geld!', 'Die', 'Deutschen', 'und', 'ihr', 'Geld.', 'Ein', '„200', 'Jahre-Schnellkurs“', 'Möchten', 'Sie', 'mit', 'Textil-Kaufmann', 'Emil', 'Fuchs', 'mal', 'schnell', 'durch', '200', 'Jahre', 'Deutschland', 'reisen?', 'Mit', 'unserer', 'Zeitmaschine', 'geht', 'das', 'ganz', 'bequem', 'und', 'Sie', 'lernen', 'dabei', 'auch', 'noch', 'etwas', 'über', 'Geld', 'und', 'Zoll1', 'in', 'den', 'Jahren', '1800,', '1900', 'und', '2000.', '1der', 'Zoll,', 'die', 'Zölle:', 'Geld,', 'das', 'Kaufmann', 'Fuchs', 'bei', 'der', 'Einreise', 'in', 'ein', 'anderes', 'Land', 'zahlt,', 'damit', 'er', 'dort', 'seine', 'Textilien', 'verkaufen', 'kann.', '1', 'Geld!', 'Geld!', 'Geld!']\n"
     ]
    }
   ],
   "source": [
    "print(all_h_words)"
   ]
  },
  {
   "cell_type": "code",
   "execution_count": 69,
   "metadata": {},
   "outputs": [
    {
     "name": "stdout",
     "output_type": "stream",
     "text": [
      "[(18.80780029296875, 770.3185424804688, 26.811798095703125, 792.700927734375, '32.1583', 0, 0, 0), (18.80780029296875, 763.9296875, 26.811798095703125, 768.5977172851562, '©', 0, 0, 1), (18.80780029296875, 748.4347534179688, 26.811798095703125, 762.2089233398438, '2001', 0, 0, 2), (18.80780029296875, 734.4451293945312, 26.811798095703125, 746.7139282226562, 'Max', 0, 0, 3), (18.80780029296875, 712.50732421875, 26.811798095703125, 732.7243041992188, 'Hueber', 0, 0, 4), (18.80780029296875, 691.3261108398438, 26.811798095703125, 710.7864990234375, 'Verlag,', 0, 0, 5), (18.80780029296875, 672.0343017578125, 26.811798095703125, 689.6052856445312, 'Autor:', 0, 0, 6), (18.80780029296875, 655.0638427734375, 26.811798095703125, 670.3134765625, 'Franz', 0, 0, 7), (18.80780029296875, 634.6560668945312, 26.811798095703125, 653.343017578125, 'Specht', 0, 0, 8), (279.6907043457031, 186.38221740722656, 341.6998291015625, 201.5292205810547, 'Sprichwort', 1, 0, 0), (452.8031921386719, 38.33050537109375, 459.7532043457031, 55.543006896972656, 'L', 2, 0, 0), (462.90069580078125, 38.33050537109375, 469.8507080078125, 55.543006896972656, 'E', 2, 0, 1), (472.9981994628906, 38.33050537109375, 481.8232116699219, 55.543006896972656, 'K', 2, 0, 2), (484.970703125, 38.33050537109375, 492.85821533203125, 55.543006896972656, 'T', 2, 0, 3), (496.0057067871094, 38.33050537109375, 500.1432189941406, 55.543006896972656, 'I', 2, 0, 4), (503.29071044921875, 38.33050537109375, 513.0156860351562, 55.543006896972656, 'O', 2, 0, 5), (516.1632080078125, 38.33050537109375, 525.45068359375, 55.543006896972656, 'N', 2, 0, 6), (535.6832275390625, 2.10565185546875, 569.572998046875, 68.46719360351562, '31', 2, 0, 7), (193.4803009033203, 71.17321014404297, 236.28350830078125, 93.20521545410156, 'Geld!', 3, 0, 0), (241.31710815429688, 71.17321014404297, 284.12030029296875, 93.20521545410156, 'Geld!', 3, 0, 1), (289.1539001464844, 71.17321014404297, 331.9571228027344, 93.20521545410156, 'Geld!', 3, 0, 2)]\n",
      "[Rect(238.95199584960938, 317.50897216796875, 263.99798583984375, 327.3489990234375), Rect(291.3219909667969, 757.81201171875, 329.7080078125, 766.3820190429688), Rect(193.6060028076172, 315.81097412109375, 238.25999450683594, 325.76202392578125), Rect(265.29730224609375, 258.20947265625, 282.8052978515625, 269.27947998046875), Rect(265.29730224609375, 258.20947265625, 282.8052978515625, 269.27947998046875), Rect(371.4552917480469, 258.20947265625, 433.2442932128906, 269.27947998046875), Rect(293.36029052734375, 273.20947265625, 340.4923095703125, 284.27947998046875)]\n"
     ]
    }
   ],
   "source": [
    "print(all_words)\n",
    "print(highlights_cords)"
   ]
  },
  {
   "cell_type": "code",
   "execution_count": null,
   "metadata": {},
   "outputs": [],
   "source": []
  }
 ],
 "metadata": {
  "kernelspec": {
   "display_name": "Python 3",
   "language": "python",
   "name": "python3"
  },
  "language_info": {
   "codemirror_mode": {
    "name": "ipython",
    "version": 3
   },
   "file_extension": ".py",
   "mimetype": "text/x-python",
   "name": "python",
   "nbconvert_exporter": "python",
   "pygments_lexer": "ipython3",
   "version": "3.11.5"
  },
  "orig_nbformat": 4
 },
 "nbformat": 4,
 "nbformat_minor": 2
}
